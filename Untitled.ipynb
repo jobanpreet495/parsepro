{
 "cells": [
  {
   "cell_type": "code",
   "execution_count": null,
   "id": "d459b253-df66-4a01-8f07-98f6c62ebac5",
   "metadata": {},
   "outputs": [],
   "source": []
  }
 ],
 "metadata": {
  "kernelspec": {
   "display_name": "",
   "name": ""
  },
  "language_info": {
   "name": ""
  }
 },
 "nbformat": 4,
 "nbformat_minor": 5
}
