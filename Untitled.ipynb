{
 "cells": [
  {
   "cell_type": "code",
   "execution_count": 3,
   "id": "d459b253-df66-4a01-8f07-98f6c62ebac5",
   "metadata": {},
   "outputs": [
    {
     "name": "stderr",
     "output_type": "stream",
     "text": [
      "2025-05-10 17:36:55,426 - INFO - ImageToMarkdown instance created. Use `.setup()` to initialize the provider.\n",
      "2025-05-10 17:36:55,499 - INFO - Provider 'groq' initialized.\n",
      "2025-05-10 17:36:55,500 - INFO - API key set for provider 'groq'.\n",
      "2025-05-10 17:36:55,500 - INFO - ImageToMarkdown setup complete. Ready to convert images to Markdown.\n",
      "2025-05-10 17:36:55,500 - INFO - Encoding image: /Users/sahibpreetsingh/Desktop/Screenshot 2025-05-10 at 5.17.07 PM.png\n",
      "2025-05-10 17:36:55,504 - INFO - Sending request to Groq API.\n",
      "2025-05-10 17:36:59,610 - INFO - HTTP Request: POST https://api.groq.com/openai/v1/chat/completions \"HTTP/1.1 200 OK\"\n"
     ]
    },
    {
     "data": {
      "text/plain": [
       "'# Hugging Face\\n## Models\\n### 73,873\\n\\n## Filter Tasks by name\\n### Reset Tasks\\n\\n## Multimodal\\n### Audio-Text-to-Text\\n### Image-Text-to-Text\\n#### Visual Question Answering\\n#### Document Question Answering\\n#### Video-Text-to-Text\\n#### Visual Document Retrieval\\n\\n## Computer Vision\\n### Depth Estimation\\n### Object Detection\\n### Image Classification\\n### Image Segmentation\\n#### Text-to-Image\\n### Image-to-Image\\n### Unconditional Image Generation\\n#### Video Classification\\n#### Text-to-Video\\n#### Zero-Shot Image Classification\\n#### Mask Generation\\n\\n## Models\\n\\n### lodestones/Chroma\\n* **Text-to-Image** \\n* Updated about 14 hours ago \\n* 397\\n\\n### black-forest-labs/FLUX.1-dev\\n* **Text-to-Image** \\n* Updated Aug 16, 2024 \\n* 2.66M \\n* 10.1k\\n\\n### HiDream-ai/HiDream-I1-Full\\n* **Text-to-Image** \\n* Updated 12 days ago \\n* 41.1k \\n* 831\\n\\n### Freepik/F-Lite\\n* **Text-to-Image** \\n* Updated 11 days ago \\n* 2.82k \\n* 126\\n\\n### black-forest-labs/FLUX.1-schnell\\n* **Text-to-Image** \\n* Updated Aug 16, 2024 \\n* 536k \\n* 3.76k\\n\\n### stabilityai/stable-diffusion-3.5-large\\n* **Text-to-Image** \\n* Updated Oct 22, 2024 \\n* 142k \\n* 2.76k\\n\\n### stabilityai/stable-diffusion-xl-base-1.0\\n* **Text-to-Image** \\n* Updated Oct 30, 2023 \\n* 2.86M \\n* 6.58k'"
      ]
     },
     "execution_count": 3,
     "metadata": {},
     "output_type": "execute_result"
    }
   ],
   "source": [
    "from parsepro import ImageToMarkdown\n",
    "\n",
    "mds = ImageToMarkdown()\n",
    "\n",
    "mds.setup(provider='groq',api_key = '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')\n",
    "markdown = mds.convert_image_to_markdown(image_path=\"/Users/sahibpreetsingh/Desktop/Screenshot 2025-05-10 at 5.17.07 PM.png\")\n",
    "markdown"
   ]
  },
  {
   "cell_type": "code",
   "execution_count": null,
   "id": "12a5b29f-7af3-4e88-9391-da66c6a97ba3",
   "metadata": {},
   "outputs": [],
   "source": []
  }
 ],
 "metadata": {
  "kernelspec": {
   "display_name": "break_time",
   "language": "python",
   "name": "break_time"
  },
  "language_info": {
   "codemirror_mode": {
    "name": "ipython",
    "version": 3
   },
   "file_extension": ".py",
   "mimetype": "text/x-python",
   "name": "python",
   "nbconvert_exporter": "python",
   "pygments_lexer": "ipython3",
   "version": "3.10.13"
  }
 },
 "nbformat": 4,
 "nbformat_minor": 5
}
